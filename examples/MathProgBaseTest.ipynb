{
 "cells": [
  {
   "cell_type": "code",
   "execution_count": 1,
   "metadata": {
    "collapsed": true
   },
   "outputs": [],
   "source": [
    "using RigidBodyDynamics\n",
    "using MathProgBase\n",
    "using ForwardDiff"
   ]
  },
  {
   "cell_type": "code",
   "execution_count": 4,
   "metadata": {
    "collapsed": true
   },
   "outputs": [],
   "source": [
    "type DynamicsFixedPointProgram{M} <: MathProgBase.AbstractNLPEvaluator\n",
    "    mechanism::Mechanism{M}\n",
    "#     state::MechanismState # TODO: store here\n",
    "end"
   ]
  },
  {
   "cell_type": "code",
   "execution_count": 5,
   "metadata": {
    "collapsed": false
   },
   "outputs": [
    {
     "data": {
      "text/plain": [
       "num_constraints (generic function with 1 method)"
      ]
     },
     "execution_count": 5,
     "metadata": {},
     "output_type": "execute_result"
    }
   ],
   "source": [
    "getmechanism(d::DynamicsFixedPointProgram) = d.mechanism\n",
    "num_variables(d::DynamicsFixedPointProgram) = num_positions(getmechanism(d))\n",
    "num_constraints(d::DynamicsFixedPointProgram) = num_velocities(getmechanism(d)) # TODO: update when necessary"
   ]
  },
  {
   "cell_type": "code",
   "execution_count": 6,
   "metadata": {
    "collapsed": false
   },
   "outputs": [
    {
     "data": {
      "text/plain": [
       "features_available (generic function with 5 methods)"
      ]
     },
     "execution_count": 6,
     "metadata": {},
     "output_type": "execute_result"
    }
   ],
   "source": [
    "function MathProgBase.initialize(d::DynamicsFixedPointProgram, requested_features::Vector{Symbol})\n",
    "    for feat in requested_features\n",
    "        if !(feat in MathProgBase.features_available(d))\n",
    "            error(\"Unsupported feature $feat\")\n",
    "            # TODO: implement Jac-vec and Hess-vec products\n",
    "            # for solvers that need them\n",
    "        end\n",
    "    end\n",
    "end\n",
    "\n",
    "MathProgBase.features_available(d::DynamicsFixedPointProgram) = [:Grad, :Jac, :Hess]"
   ]
  },
  {
   "cell_type": "code",
   "execution_count": 7,
   "metadata": {
    "collapsed": false
   },
   "outputs": [
    {
     "data": {
      "text/plain": [
       "eval_hesslag (generic function with 5 methods)"
      ]
     },
     "execution_count": 7,
     "metadata": {},
     "output_type": "execute_result"
    }
   ],
   "source": [
    "MathProgBase.eval_f(d::DynamicsFixedPointProgram, q) = 0\n",
    "\n",
    "function MathProgBase.eval_g(d::DynamicsFixedPointProgram, g, q)\n",
    "    mechanism = getmechanism(d)\n",
    "    state = MechanismState(eltype(q), mechanism)\n",
    "    set_configuration!(state, q)\n",
    "    zero_velocity!(state)\n",
    "    q̇, v̇ = dynamics(state)\n",
    "    g[:] = velocity_dict_to_vector(v̇, joints(mechanism))\n",
    "    g\n",
    "end\n",
    "\n",
    "function MathProgBase.eval_grad_f(d::DynamicsFixedPointProgram, grad_f, q)\n",
    "    grad_f[:] = ForwardDiff.gradient(q -> MathProgBase.eval_f(d, q), q)\n",
    "    grad_f\n",
    "end\n",
    "\n",
    "function MathProgBase.jac_structure(d::DynamicsFixedPointProgram)\n",
    "    # TODO: determine and exploit structure\n",
    "    constraints = num_constraints(d)\n",
    "    vars = num_variables(d)\n",
    "    [i for i in 1 : constraints, j in 1 : vars], [j for i in 1 : constraints, j in 1 : vars]\n",
    "end\n",
    "\n",
    "function MathProgBase.hesslag_structure(d::DynamicsFixedPointProgram)\n",
    "    vars = num_variables(d)\n",
    "    [i for i in 1 : vars, j in 1 : vars], [j for i in 1 : vars, j in 1 : vars]\n",
    "end\n",
    "\n",
    "function MathProgBase.eval_jac_g(d::DynamicsFixedPointProgram, J, q)\n",
    "    fun = q -> begin\n",
    "        g = Array(eltype(q), num_variables(d))\n",
    "        MathProgBase.eval_g(d, g, q)\n",
    "    end\n",
    "    J[:] = ForwardDiff.jacobian(fun, q)[:]\n",
    "end\n",
    "\n",
    "function MathProgBase.eval_hesslag(d::DynamicsFixedPointProgram, H, q, σ, μ)\n",
    "    H[:] = σ * ForwardDiff.hessian(q -> MathProgBase.eval_f(d, q), q)[:]\n",
    "    for i = 1 : num_constraints(d)\n",
    "        fun = q -> begin\n",
    "            g = Array(eltype(q), num_variables(d))\n",
    "            MathProgBase.eval_g(d, g, q)[i]\n",
    "        end\n",
    "        H[:] += μ[i] * ForwardDiff.hessian(fun, q)[:]\n",
    "    end\n",
    "    \n",
    "end"
   ]
  },
  {
   "cell_type": "code",
   "execution_count": 8,
   "metadata": {
    "collapsed": false
   },
   "outputs": [
    {
     "data": {
      "text/plain": [
       "fixedpointtest (generic function with 2 methods)"
      ]
     },
     "execution_count": 8,
     "metadata": {},
     "output_type": "execute_result"
    }
   ],
   "source": [
    "function fixedpointtest(solver=MathProgBase.defaultNLPsolver)\n",
    "    filename = \"/Users/twan/code/drake-distro/drake/examples/Acrobot/Acrobot.urdf\"\n",
    "    mechanism = parse_urdf(Float64, filename)\n",
    "    problem = DynamicsFixedPointProgram(mechanism)\n",
    "    vars = num_variables(problem)\n",
    "    constraints = num_constraints(problem)\n",
    "    m = MathProgBase.NonlinearModel(solver)\n",
    "    l = -Inf * ones(vars) # TODO: joint limits\n",
    "    u = Inf * ones(vars) # TODO: joint limits\n",
    "    MathProgBase.loadproblem!(m, vars, constraints, l, u, zeros(vars), zeros(vars), :Min, problem)\n",
    "    MathProgBase.setwarmstart!(m, rand(vars))\n",
    "\n",
    "    MathProgBase.optimize!(m)\n",
    "    stat = MathProgBase.status(m)\n",
    "\n",
    "#     @test stat == :Optimal\n",
    "    x = MathProgBase.getsolution(m)\n",
    "end"
   ]
  },
  {
   "cell_type": "code",
   "execution_count": 11,
   "metadata": {
    "collapsed": false
   },
   "outputs": [
    {
     "name": "stdout",
     "output_type": "stream",
     "text": [
      "This is Ipopt version 3.12.4, running with linear solver mumps.\n",
      "NOTE: Other linear solvers might be more efficient (see Ipopt documentation).\n",
      "\n",
      "Number of nonzeros in equality constraint Jacobian...:        4\n",
      "Number of nonzeros in inequality constraint Jacobian.:        0\n",
      "Number of nonzeros in Lagrangian Hessian.............:        4\n",
      "\n",
      "Total number of variables............................:        2\n",
      "                     variables with only lower bounds:        0\n",
      "                variables with lower and upper bounds:        0\n",
      "                     variables with only upper bounds:        0\n",
      "Total number of equality constraints.................:        2\n",
      "Total number of inequality constraints...............:        0\n",
      "        inequality constraints with only lower bounds:        0\n",
      "   inequality constraints with lower and upper bounds:        0\n",
      "        inequality constraints with only upper bounds:        0\n",
      "\n",
      "iter    objective    inf_pr   inf_du lg(mu)  ||d||  lg(rg) alpha_du alpha_pr  ls\n",
      "   0  0.0000000e+00 7.36e+00 0.00e+00  -1.0 0.00e+00    -  0.00e+00 0.00e+00   0\n",
      "   1  0.0000000e+00 6.57e+00 0.00e+00  -1.0 2.97e+00    -  1.00e+00 1.00e+00h  1\n",
      "   2  0.0000000e+00 6.19e+00 0.00e+00  -1.0 3.80e+00    -  1.00e+00 6.25e-02h  5\n",
      "   3  0.0000000e+00 5.44e+00 0.00e+00  -1.0 1.69e+00    -  1.00e+00 1.25e-01h  4\n",
      "   4  0.0000000e+00 4.73e+00 0.00e+00  -1.0 7.80e-01    -  1.00e+00 1.00e+00h  1\n",
      "   5  0.0000000e+00 2.13e+00 0.00e+00  -1.0 4.49e-01    -  1.00e+00 1.00e+00h  1\n",
      "   6  0.0000000e+00 1.05e-01 0.00e+00  -1.0 1.29e-01    -  1.00e+00 1.00e+00h  1\n",
      "   7  0.0000000e+00 1.15e-05 0.00e+00  -2.5 5.94e-03    -  1.00e+00 1.00e+00h  1\n",
      "   8  0.0000000e+00 1.55e-15 0.00e+00  -8.6 6.51e-07    -  1.00e+00 1.00e+00h  1\n",
      "\n",
      "Number of Iterations....: 8\n",
      "\n",
      "                                   (scaled)                 (unscaled)\n",
      "Objective...............:   0.0000000000000000e+00    0.0000000000000000e+00\n",
      "Dual infeasibility......:   0.0000000000000000e+00    0.0000000000000000e+00\n",
      "Constraint violation....:   1.5501235475264083e-15    1.5501235475264083e-15\n",
      "Complementarity.........:   0.0000000000000000e+00    0.0000000000000000e+00\n",
      "Overall NLP error.......:   1.5501235475264083e-15    1.5501235475264083e-15\n",
      "\n",
      "\n",
      "Number of objective function evaluations             = 22\n",
      "Number of objective gradient evaluations             = 9\n",
      "Number of equality constraint evaluations            = 22\n",
      "Number of inequality constraint evaluations          = 0\n",
      "Number of equality constraint Jacobian evaluations   = 9\n",
      "Number of inequality constraint Jacobian evaluations = 0\n",
      "Number of Lagrangian Hessian evaluations             = 8\n",
      "Total CPU secs in IPOPT (w/o function evaluations)   =      0.006\n",
      "Total CPU secs in NLP function evaluations           =      0.046\n",
      "\n",
      "EXIT: Optimal Solution Found.\n"
     ]
    },
    {
     "data": {
      "text/plain": [
       "2-element Array{Float64,1}:\n",
       "  3.38443e-19\n",
       " -3.14159    "
      ]
     },
     "execution_count": 11,
     "metadata": {},
     "output_type": "execute_result"
    }
   ],
   "source": [
    "fixedpointtest()"
   ]
  }
 ],
 "metadata": {
  "kernelspec": {
   "display_name": "Julia 0.4.5",
   "language": "julia",
   "name": "julia-0.4"
  },
  "language_info": {
   "file_extension": ".jl",
   "mimetype": "application/julia",
   "name": "julia",
   "version": "0.4.5"
  }
 },
 "nbformat": 4,
 "nbformat_minor": 0
}
