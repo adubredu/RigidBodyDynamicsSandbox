{
 "cells": [
  {
   "cell_type": "code",
   "execution_count": 1,
   "metadata": {
    "collapsed": false
   },
   "outputs": [
    {
     "name": "stderr",
     "output_type": "stream",
     "text": [
      "WARNING: symbol is deprecated, use Symbol instead.\n",
      " in depwarn(::String, ::Symbol) at ./deprecated.jl:64\n",
      " in symbol(::String, ::Vararg{String,N}) at ./deprecated.jl:30\n",
      " in @memoize(::Symbol, ::Vararg{Any,N}) at /Users/twan/code/julia/RigidBodyDynamicsPkgDir/v0.5/Memoize/src/Memoize.jl:19\n",
      " in include_from_node1(::String) at ./loading.jl:488\n",
      " in include_from_node1(::String) at /Applications/Julia-0.5.app/Contents/Resources/julia/lib/julia/sys.dylib:?\n",
      " in include_from_node1(::String) at ./loading.jl:488\n",
      " in include_from_node1(::String) at /Applications/Julia-0.5.app/Contents/Resources/julia/lib/julia/sys.dylib:?\n",
      " in eval(::Module, ::Any) at ./boot.jl:234\n",
      " in eval(::Module, ::Any) at /Applications/Julia-0.5.app/Contents/Resources/julia/lib/julia/sys.dylib:?\n",
      " in require(::Symbol) at ./loading.jl:415\n",
      " in require(::Symbol) at /Applications/Julia-0.5.app/Contents/Resources/julia/lib/julia/sys.dylib:?\n",
      " in include_string(::String, ::String) at ./loading.jl:441\n",
      " in execute_request(::ZMQ.Socket, ::IJulia.Msg) at /Users/twan/code/julia/RigidBodyDynamicsPkgDir/v0.5/IJulia/src/execute_request.jl:169\n",
      " in eventloop(::ZMQ.Socket) at /Users/twan/code/julia/RigidBodyDynamicsPkgDir/v0.5/IJulia/src/eventloop.jl:8\n",
      " in (::IJulia.##9#15)() at ./task.jl:360\n",
      "while loading /Users/twan/code/julia/RigidBodyDynamicsPkgDir/v0.5/RigidBodyDynamicsSandbox/src/jump_utils.jl, in expression starting on line 1\n"
     ]
    }
   ],
   "source": [
    "push!(LOAD_PATH, \"../src\")\n",
    "RIGID_BODY_DYNAMICS_RELEASE = true\n",
    "using RigidBodyDynamics\n",
    "using RigidBodyDynamicsSim\n",
    "using BenchmarkTools"
   ]
  },
  {
   "cell_type": "code",
   "execution_count": 2,
   "metadata": {
    "collapsed": false
   },
   "outputs": [],
   "source": [
    "filename = \"/Users/twan/code/drake-distro/drake/examples/Atlas/urdf/atlas_minimal_contact.urdf\"\n",
    "atlas = RigidBodyDynamics.parse_urdf(Float64, filename);\n",
    "world = RigidBody{Float64}(\"world\")\n",
    "# floatingJoint = Joint(\"base\", QuaternionFloating())\n",
    "floatingJoint = Joint(\"base\", QuaternionFloating{Float64}())\n",
    "floatingAtlas = Mechanism(world)\n",
    "attach!(floatingAtlas, world, floatingJoint, Transform3D{Float64}(floatingJoint.frameBefore, world.frame), atlas);"
   ]
  },
  {
   "cell_type": "code",
   "execution_count": 3,
   "metadata": {
    "collapsed": false
   },
   "outputs": [],
   "source": [
    "const state = MechanismState(Float64, floatingAtlas);\n",
    "const result = DynamicsResult(Float64, state.mechanism);"
   ]
  },
  {
   "cell_type": "code",
   "execution_count": 4,
   "metadata": {
    "collapsed": false
   },
   "outputs": [
    {
     "data": {
      "text/plain": [
       "BenchmarkTools.Trial: \n",
       "  samples:          6633\n",
       "  evals/sample:     1\n",
       "  time tolerance:   5.00%\n",
       "  memory tolerance: 1.00%\n",
       "  memory estimate:  134.95 kb\n",
       "  allocs estimate:  3005\n",
       "  minimum time:     634.32 μs (0.00% GC)\n",
       "  median time:      651.19 μs (0.00% GC)\n",
       "  mean time:        706.25 μs (2.88% GC)\n",
       "  maximum time:     5.33 ms (77.13% GC)"
      ]
     },
     "execution_count": 4,
     "metadata": {},
     "output_type": "execute_result"
    }
   ],
   "source": [
    "@benchmark dynamics!(result, state, x) setup=(rand!(state); x = state_vector(state))"
   ]
  },
  {
   "cell_type": "code",
   "execution_count": null,
   "metadata": {
    "collapsed": true
   },
   "outputs": [],
   "source": []
  }
 ],
 "metadata": {
  "kernelspec": {
   "display_name": "Julia 0.5.0",
   "language": "julia",
   "name": "julia-0.5"
  },
  "language_info": {
   "file_extension": ".jl",
   "mimetype": "application/julia",
   "name": "julia",
   "version": "0.5.0"
  }
 },
 "nbformat": 4,
 "nbformat_minor": 0
}
