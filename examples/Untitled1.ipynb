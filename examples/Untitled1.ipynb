{
 "cells": [
  {
   "cell_type": "code",
   "execution_count": 1,
   "metadata": {
    "collapsed": false
   },
   "outputs": [
    {
     "data": {
      "text/plain": [
       "profile_test (generic function with 1 method)"
      ]
     },
     "execution_count": 1,
     "metadata": {},
     "output_type": "execute_result"
    }
   ],
   "source": [
    "function profile_test(n)\n",
    "   for i = 1:n\n",
    "       A = randn(100,100,20)\n",
    "       m = maximum(A)\n",
    "       Afft = fft(A)\n",
    "       Am = mapslices(sum, A, 2)\n",
    "       B = A[:,:,5]\n",
    "       Bsort = mapslices(sort, B, 1)\n",
    "       b = rand(100)\n",
    "       C = B.*b\n",
    "   end\n",
    "end\n"
   ]
  },
  {
   "cell_type": "code",
   "execution_count": 2,
   "metadata": {
    "collapsed": true
   },
   "outputs": [],
   "source": [
    "profile_test(1)"
   ]
  },
  {
   "cell_type": "code",
   "execution_count": 3,
   "metadata": {
    "collapsed": true
   },
   "outputs": [],
   "source": [
    "Profile.clear() "
   ]
  },
  {
   "cell_type": "code",
   "execution_count": 4,
   "metadata": {
    "collapsed": true
   },
   "outputs": [],
   "source": [
    "@profile profile_test(10)"
   ]
  },
  {
   "cell_type": "code",
   "execution_count": 5,
   "metadata": {
    "collapsed": true
   },
   "outputs": [],
   "source": [
    "bt, lidict = Profile.retrieve();\n"
   ]
  },
  {
   "cell_type": "code",
   "execution_count": 7,
   "metadata": {
    "collapsed": false
   },
   "outputs": [
    {
     "name": "stderr",
     "output_type": "stream",
     "text": [
      "INFO: Recompiling stale cache file /Users/twan/code/julia/RigidBodyDynamicsSim/packages/lib/v0.5/ProfileView.ji for module ProfileView.\n",
      "INFO: Recompiling stale cache file /Users/twan/code/julia/RigidBodyDynamicsSim/packages/lib/v0.5/Colors.ji for module Colors.\n",
      "INFO: Recompiling stale cache file /Users/twan/code/julia/RigidBodyDynamicsSim/packages/lib/v0.5/FixedPointNumbers.ji for module FixedPointNumbers.\n",
      "INFO: Recompiling stale cache file /Users/twan/code/julia/RigidBodyDynamicsSim/packages/lib/v0.5/ColorTypes.ji for module ColorTypes.\n",
      "INFO: Recompiling stale cache file /Users/twan/code/julia/RigidBodyDynamicsSim/packages/lib/v0.5/Reexport.ji for module Reexport.\n",
      "INFO: Recompiling stale cache file /Users/twan/code/julia/RigidBodyDynamicsSim/packages/lib/v0.5/ProfileViewSVG.ji for module ProfileViewSVG.\n"
     ]
    }
   ],
   "source": [
    "using ProfileView"
   ]
  },
  {
   "cell_type": "code",
   "execution_count": 9,
   "metadata": {
    "collapsed": false
   },
   "outputs": [
    {
     "ename": "LoadError",
     "evalue": "LoadError: type Array has no field func\nwhile loading In[9], in expression starting on line 1",
     "output_type": "error",
     "traceback": [
      "LoadError: type Array has no field func\nwhile loading In[9], in expression starting on line 1",
      "",
      " in (::ProfileView.#printrec#26{Dict{UInt64,Array{StackFrame,1}}})(::IOStream, ::Int64, ::Float64, ::Float64, ::Float64, ::ProfileView.TagData, ::ColorTypes.RGB{FixedPointNumbers.UFixed{UInt8,8}}) at /Users/twan/code/julia/RigidBodyDynamicsSim/packages/v0.5/ProfileView/src/ProfileView.jl:213",
      " in show(::IOStream, ::MIME{Symbol(\"image/svg+xml\")}, ::ProfileView.ProfileData) at /Users/twan/code/julia/RigidBodyDynamicsSim/packages/v0.5/ProfileView/src/ProfileView.jl:249",
      " in open(::ProfileView.##22#23, ::String, ::String) at ./iostream.jl:113",
      " in #svgwrite#21(::Bool, ::Bool, ::Int64, ::Bool, ::Array{Any,1}, ::Function, ::String, ::Array{UInt64,1}, ::Dict{UInt64,Array{StackFrame,1}}) at /Users/twan/code/julia/RigidBodyDynamicsSim/packages/v0.5/ProfileView/src/ProfileView.jl:174",
      " in svgwrite(::String, ::Array{UInt64,1}, ::Dict{UInt64,Array{StackFrame,1}}) at /Users/twan/code/julia/RigidBodyDynamicsSim/packages/v0.5/ProfileView/src/ProfileView.jl:172",
      " in include_string(::String, ::String) at ./loading.jl:380",
      " in execute_request_0x535c5df2(::ZMQ.Socket, ::IJulia.Msg) at /Users/twan/code/julia/RigidBodyDynamics/packages/v0.5/IJulia/src/execute_request.jl:183",
      " in eventloop(::ZMQ.Socket) at /Users/twan/code/julia/RigidBodyDynamics/packages/v0.5/IJulia/src/IJulia.jl:143",
      " in (::IJulia.##26#32)() at ./task.jl:309"
     ]
    }
   ],
   "source": [
    "ProfileView.svgwrite(\"profile_results.svg\", bt, lidict)"
   ]
  },
  {
   "cell_type": "code",
   "execution_count": null,
   "metadata": {
    "collapsed": true
   },
   "outputs": [],
   "source": []
  }
 ],
 "metadata": {
  "kernelspec": {
   "display_name": "Julia 0.5.0-rc0",
   "language": "julia",
   "name": "julia-0.5"
  },
  "language_info": {
   "file_extension": ".jl",
   "mimetype": "application/julia",
   "name": "julia",
   "version": "0.5.0"
  }
 },
 "nbformat": 4,
 "nbformat_minor": 0
}
