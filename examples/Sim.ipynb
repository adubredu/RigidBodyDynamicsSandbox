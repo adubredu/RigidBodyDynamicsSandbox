{
 "cells": [
  {
   "cell_type": "code",
   "execution_count": 1,
   "metadata": {
    "collapsed": false
   },
   "outputs": [],
   "source": [
    "push!(LOAD_PATH, \"../src\")\n",
    "RIGID_BODY_DYNAMICS_RELEASE = true\n",
    "using RigidBodyDynamics\n",
    "using RigidBodyDynamicsSim\n",
    "using BenchmarkTools"
   ]
  },
  {
   "cell_type": "code",
   "execution_count": 2,
   "metadata": {
    "collapsed": false
   },
   "outputs": [],
   "source": [
    "# filename = \"/Users/twan/code/julia/RigidBodyDynamics/test/urdf/Acrobot.urdf\"\n",
    "# filename = \"/Users/twan/code/drake-distro/drake/examples/Acrobot/Acrobot.urdf\"\n",
    "# filename = \"/Users/twan/code/drake-distro/drake/examples/ZMP/CartTable.urdf\"\n",
    "# filename = \"/Users/twan/code/drake-distro/drake/examples/Pendulum/Pendulum.urdf\"\n",
    "# filename = \"/Users/twan/code/drake-distro/drake/examples/Strandbeest/Strandbeest.urdf\"\n",
    "# filename = \"/Users/twan/code/drake-distro/drake/examples/FurutaPendulum/FurutaPendulum.urdf\"\n",
    "# filename = \"/Users/twan/Downloads/pelican.xml\"\n",
    "filename = \"/Users/twan/code/drake-distro/drake/examples/Atlas/urdf/atlas_minimal_contact.urdf\"\n",
    "mechanism = RigidBodyDynamics.parse_urdf(Float64, filename);"
   ]
  },
  {
   "cell_type": "code",
   "execution_count": 3,
   "metadata": {
    "collapsed": false
   },
   "outputs": [
    {
     "data": {
      "text/plain": [
       "1-element Array{Float64,1}:\n",
       " 0.572767"
      ]
     },
     "execution_count": 3,
     "metadata": {},
     "output_type": "execute_result"
    }
   ],
   "source": [
    "const j = Joint(\"bla\", rand(Revolute{Float64}))\n",
    "const jt = j.jointType\n",
    "const q = rand_configuration(j, Float64)\n",
    "const v = rand(num_velocities(j))"
   ]
  },
  {
   "cell_type": "code",
   "execution_count": 4,
   "metadata": {
    "collapsed": false
   },
   "outputs": [
    {
     "data": {
      "text/plain": [
       "BenchmarkTools.Trial: \n",
       "  samples:          10000\n",
       "  evals/sample:     986\n",
       "  time tolerance:   5.00%\n",
       "  memory tolerance: 1.00%\n",
       "  memory estimate:  96.00 bytes\n",
       "  allocs estimate:  1\n",
       "  minimum time:     53.00 ns (0.00% GC)\n",
       "  median time:      55.00 ns (0.00% GC)\n",
       "  mean time:        64.07 ns (8.49% GC)\n",
       "  maximum time:     1.80 μs (93.28% GC)"
      ]
     },
     "execution_count": 4,
     "metadata": {},
     "output_type": "execute_result"
    }
   ],
   "source": [
    "@benchmark RigidBodyDynamics.joint_transform($j, $q)"
   ]
  },
  {
   "cell_type": "code",
   "execution_count": 4,
   "metadata": {
    "collapsed": false
   },
   "outputs": [],
   "source": [
    "const state = MechanismState(Float64, mechanism);\n",
    "nq, nv = num_positions(mechanism), num_velocities(mechanism)\n",
    "const result = DynamicsResult(Float64, mechanism);"
   ]
  },
  {
   "cell_type": "code",
   "execution_count": 6,
   "metadata": {
    "collapsed": false
   },
   "outputs": [
    {
     "data": {
      "text/plain": [
       "BenchmarkTools.Trial: \n",
       "  samples:          7455\n",
       "  evals/sample:     1\n",
       "  time tolerance:   5.00%\n",
       "  memory tolerance: 1.00%\n",
       "  memory estimate:  123.89 kb\n",
       "  allocs estimate:  2662\n",
       "  minimum time:     566.38 μs (0.00% GC)\n",
       "  median time:      583.69 μs (0.00% GC)\n",
       "  mean time:        620.21 μs (2.87% GC)\n",
       "  maximum time:     4.44 ms (79.28% GC)"
      ]
     },
     "execution_count": 6,
     "metadata": {},
     "output_type": "execute_result"
    }
   ],
   "source": [
    "using BenchmarkTools\n",
    "@benchmark dynamics!($result, $state, x) setup = begin rand!($state); x = state_vector($state) end"
   ]
  },
  {
   "cell_type": "code",
   "execution_count": 6,
   "metadata": {
    "collapsed": false
   },
   "outputs": [
    {
     "data": {
      "text/plain": [
       "BenchmarkTools.Trial: \n",
       "  samples:          6038\n",
       "  evals/sample:     1\n",
       "  time tolerance:   5.00%\n",
       "  memory tolerance: 1.00%\n",
       "  memory estimate:  123.89 kb\n",
       "  allocs estimate:  2662\n",
       "  minimum time:     604.37 μs (0.00% GC)\n",
       "  median time:      748.48 μs (0.00% GC)\n",
       "  mean time:        767.57 μs (2.66% GC)\n",
       "  maximum time:     4.88 ms (76.68% GC)"
      ]
     },
     "execution_count": 6,
     "metadata": {},
     "output_type": "execute_result"
    }
   ],
   "source": [
    "using BenchmarkTools\n",
    "@benchmark dynamics!($result, $state, x) setup = begin rand!($state); x = state_vector($state) end"
   ]
  },
  {
   "cell_type": "code",
   "execution_count": 8,
   "metadata": {
    "collapsed": false
   },
   "outputs": [
    {
     "name": "stdout",
     "output_type": "stream",
     "text": [
      "  0.638298 seconds (2.60 M allocations: 106.631 MB, 2.94% gc time)\n"
     ]
    }
   ],
   "source": [
    "rand_configuration!(state)\n",
    "zero_velocity!(state)\n",
    "# zero!(state)\n",
    "tspan = [0.; 1.]\n",
    "times, states = simulate(state, tspan, minstep=1e-2, maxstep=1e-2)\n",
    "# tspan = linspace(0, 1, 100)\n",
    "# times, states = simulate(state, tspan, integrator = ODE.ode4)\n",
    "# times, states = simulate(state, tspan)\n",
    "# tspan = [0.; 5.]\n",
    "configurations = map(x -> x[1 : num_positions(mechanism)], states);"
   ]
  },
  {
   "cell_type": "code",
   "execution_count": 6,
   "metadata": {
    "collapsed": false,
    "scrolled": false
   },
   "outputs": [],
   "source": [
    "# # PROFILEVIEW_USEGTK = true\n",
    "# Profile.clear()\n",
    "# @profile times, states = simulate(state, tspan, minstep=1e-2, maxstep=1e-2)\n",
    "# # Profile.print()\n",
    "# using ProfileView\n",
    "# ProfileView.view()"
   ]
  },
  {
   "cell_type": "code",
   "execution_count": 13,
   "metadata": {
    "collapsed": false,
    "scrolled": false
   },
   "outputs": [
    {
     "data": {
      "image/png": "[encoded data removed]",
      "text/plain": [
       "PyPlot.Figure(PyObject <matplotlib.figure.Figure object at 0x3244d1e10>)"
      ]
     },
     "metadata": {},
     "output_type": "display_data"
    },
    {
     "name": "stderr",
     "output_type": "stream",
     "text": [
      "/usr/local/lib/python2.7/site-packages/matplotlib/font_manager.py:273: UserWarning: Matplotlib is building the font cache using fc-list. This may take a moment.\n",
      "  warnings.warn('Matplotlib is building the font cache using fc-list. This may take a moment.')\n"
     ]
    }
   ],
   "source": [
    "using PyPlot\n",
    "plot(times, map(x -> x[1], states))\n",
    "xlabel(L\"$t$ (s)\"); ylabel(L\"$q_1(t)$ (rad)\");"
   ]
  },
  {
   "cell_type": "code",
   "execution_count": 8,
   "metadata": {
    "collapsed": false
   },
   "outputs": [],
   "source": [
    "using RigidBodyTreeInspector\n",
    "visualizer = RigidBodyTreeInspector.parse_urdf(filename, mechanism)\n",
    "animate(visualizer, mechanism, times, configurations; fps = 30., realtimerate = 1.)"
   ]
  },
  {
   "cell_type": "code",
   "execution_count": null,
   "metadata": {
    "collapsed": false
   },
   "outputs": [],
   "source": [
    "# loop joints beginning\n",
    "using FixedSizeArrays\n",
    "import RigidBodyDynamics: exponential_coordinates\n",
    "joint = joints(mechanism)[4]\n",
    "S = Array(motion_subspace(joint, configuration(state, joint)))\n",
    "TArray = nullspace(S')\n",
    "Tangular = Mat(TArray[1:3, :])\n",
    "Tlinear = Mat(TArray[4:6, :])\n",
    "# H = relative_transform(state, joint.frameAfter, joint.frameBefore)\n",
    "H = rand(Transform3D{Float64}, joint.frameAfter, joint.frameBefore)\n",
    "d = Vec(exponential_coordinates(H.rot)..., H.trans...)\n",
    "δ = Tangular' * exponential_coordinates(H.rot) + Tlinear' * H.trans\n",
    "joint_twist = transform(state, relative_twist(state, joint.frameAfter, joint.frameBefore), joint.frameAfter)\n",
    "vδ = Tangular' * joint_twist.angular + Tlinear' * joint_twist.linear\n",
    "Tstab = 1e-2\n",
    "α = β = 1 / Tstab\n",
    "kstab = -2 * α * vδ - β^2 * δ\n",
    "succ = successor(mechanism, joint)\n",
    "prec = predecessor(mechanism, joint)\n",
    "pth = path(mechanism, succ, prec)\n",
    "jac = transform(state, geometric_jacobian(state, pth), joint.frameAfter)\n",
    "Kcompact = Tangular' * jac.angular + Tlinear' * jac.linear\n",
    "num_loop_constraints = 6 - num_velocities(joint)\n",
    "K = zeros(Float64, num_loop_constraints, num_velocities(mechanism))\n"
   ]
  },
  {
   "cell_type": "code",
   "execution_count": null,
   "metadata": {
    "collapsed": false
   },
   "outputs": [],
   "source": [
    "# using ForwardDiff\n",
    "# T = ForwardDiff.Dual{1,ForwardDiff.Dual{9,Float64}}\n",
    "# # @time MechanismState(T, mechanism);\n",
    "# Profile.clear()\n",
    "# @profile MechanismState(T, mechanism)\n",
    "# using ProfileView\n",
    "# ProfileView.view()"
   ]
  },
  {
   "cell_type": "code",
   "execution_count": null,
   "metadata": {
    "collapsed": false
   },
   "outputs": [],
   "source": []
  },
  {
   "cell_type": "code",
   "execution_count": 11,
   "metadata": {
    "collapsed": false
   },
   "outputs": [
    {
     "name": "stderr",
     "output_type": "stream",
     "text": [
      "WARNING: redefining constant joint\n",
      "WARNING: redefining constant q\n",
      "WARNING: redefining constant jointType\n"
     ]
    },
    {
     "data": {
      "text/plain": [
       "test (generic function with 1 method)"
      ]
     },
     "execution_count": 11,
     "metadata": {},
     "output_type": "execute_result"
    }
   ],
   "source": [
    "push!(LOAD_PATH, \"../src\")\n",
    "using RigidBodyDynamics\n",
    "using RigidBodyDynamicsSim\n",
    "\n",
    "using FixedSizeArrays\n",
    "using Quaternions\n",
    "\n",
    "# const joint = Joint(\"bla\", QuaternionFloating{Float64}())\n",
    "const joint = Joint(\"bla\", rand(Revolute{Float64}))\n",
    "const q = rand_configuration(joint, Float64)\n",
    "const jointType = joint.jointType\n",
    "\n",
    "function test(joint::Joint, q::Vector)\n",
    "#     T = promote_type(J, Q)\n",
    "#     ret::Transform3D{T}\n",
    "    ret = joint_transform(joint, joint.jointType, q)\n",
    "#     if isa(joint.jointType, QuaternionFloating{J})\n",
    "#         ret = joint_transform(joint, joint.jointType::QuaternionFloating{J}, q)\n",
    "#     elseif isa(joint.jointType, Revolute{J})\n",
    "#         ret = joint_transform(joint, joint.jointType::Revolute{J}, q)\n",
    "#     else\n",
    "#         ret = Transform3D{T}(joint.frameBefore, joint.frameAfter)\n",
    "#     end\n",
    "    ret\n",
    "end\n",
    "# function test{T}(q::Vector{T})\n",
    "#     @inbounds joint_transform(joint, joint.jointType, q)\n",
    "# end"
   ]
  },
  {
   "cell_type": "code",
   "execution_count": 13,
   "metadata": {
    "collapsed": false
   },
   "outputs": [
    {
     "data": {
      "text/plain": [
       "BenchmarkTools.Trial: \n",
       "  samples:          10000\n",
       "  evals/sample:     976\n",
       "  time tolerance:   5.00%\n",
       "  memory tolerance: 1.00%\n",
       "  memory estimate:  96.00 bytes\n",
       "  allocs estimate:  1\n",
       "  minimum time:     68.00 ns (0.00% GC)\n",
       "  median time:      72.00 ns (0.00% GC)\n",
       "  mean time:        81.59 ns (7.87% GC)\n",
       "  maximum time:     2.04 μs (94.55% GC)"
      ]
     },
     "execution_count": 13,
     "metadata": {},
     "output_type": "execute_result"
    }
   ],
   "source": [
    "using BenchmarkTools\n",
    "@benchmark test(joint, q) setup = q[:] = rand_configuration(joint, Float64)"
   ]
  },
  {
   "cell_type": "code",
   "execution_count": 13,
   "metadata": {
    "collapsed": false
   },
   "outputs": [
    {
     "data": {
      "text/plain": [
       "2-element Array{Float64,1}:\n",
       " 1.0\n",
       " 2.0"
      ]
     },
     "execution_count": 13,
     "metadata": {},
     "output_type": "execute_result"
    }
   ],
   "source": [
    "a = [1.; 2.]"
   ]
  },
  {
   "cell_type": "code",
   "execution_count": 9,
   "metadata": {
    "collapsed": true
   },
   "outputs": [],
   "source": [
    "push!(LOAD_PATH, \"../src\")\n",
    "RIGID_BODY_DYNAMICS_RELEASE = true\n",
    "using RigidBodyDynamics\n",
    "using BenchmarkTools"
   ]
  },
  {
   "cell_type": "code",
   "execution_count": 10,
   "metadata": {
    "collapsed": false
   },
   "outputs": [
    {
     "data": {
      "text/plain": [
       "bla (generic function with 1 method)"
      ]
     },
     "execution_count": 10,
     "metadata": {},
     "output_type": "execute_result"
    }
   ],
   "source": [
    "function bla{T}(::Type{T})\n",
    "    types = RigidBodyDynamics.ConcreteSubtypes(Vector{T})\n",
    "#     RigidBodyDynamics.@DynamicDispatch a::JointType{Float64} begin sum(a) end\n",
    "end"
   ]
  },
  {
   "cell_type": "code",
   "execution_count": 11,
   "metadata": {
    "collapsed": false
   },
   "outputs": [
    {
     "data": {
      "text/plain": [
       "BenchmarkTools.Trial: \n",
       "  samples:          10000\n",
       "  evals/sample:     979\n",
       "  time tolerance:   5.00%\n",
       "  memory tolerance: 1.00%\n",
       "  memory estimate:  112.00 bytes\n",
       "  allocs estimate:  2\n",
       "  minimum time:     65.00 ns (0.00% GC)\n",
       "  median time:      68.00 ns (0.00% GC)\n",
       "  mean time:        79.41 ns (7.29% GC)\n",
       "  maximum time:     1.69 μs (92.89% GC)"
      ]
     },
     "execution_count": 11,
     "metadata": {},
     "output_type": "execute_result"
    }
   ],
   "source": [
    "@benchmark bla(Float64)"
   ]
  },
  {
   "cell_type": "code",
   "execution_count": 6,
   "metadata": {
    "collapsed": true
   },
   "outputs": [],
   "source": [
    "macro joint_type_dependent_function(signature)\n",
    "    functionName = signature.args[1]\n",
    "    functionArgs = signature.args[2:end]\n",
    "    quote\n",
    "        function $(functionName){J}(joint::Joint{J}, $(functionArgs...))\n",
    "            # ret::$(returnType)\n",
    "            jointType = joint.jointType\n",
    "            if isa(jointType, Fixed{J})\n",
    "                ret = $functionName(joint, joint.jointType::Fixed{J}, $(functionArgs...))\n",
    "            elseif isa(jointType, Revolute{J})\n",
    "                ret = $functionName(joint, joint.jointType::Revolute{J}, $(functionArgs...))\n",
    "            elseif isa(jointType, Prismatic{J})\n",
    "                ret = $functionName(joint, joint.jointType::Prismatic{J}, $(functionArgs...))\n",
    "            elseif isa(jointType, QuaternionFloating{J})\n",
    "                ret = $functionName(joint, joint.jointType::QuaternionFloating{J}, $(functionArgs...))\n",
    "            end\n",
    "            ret\n",
    "        end\n",
    "    end\n",
    "end"
   ]
  },
  {
   "cell_type": "code",
   "execution_count": 7,
   "metadata": {
    "collapsed": false
   },
   "outputs": [
    {
     "data": {
      "text/plain": [
       "#197#joint_transform (generic function with 1 method)"
      ]
     },
     "execution_count": 7,
     "metadata": {},
     "output_type": "execute_result"
    }
   ],
   "source": [
    "@joint_type_dependent_function joint_transform(q::AbstractVector)"
   ]
  },
  {
   "cell_type": "code",
   "execution_count": 4,
   "metadata": {
    "collapsed": false
   },
   "outputs": [
    {
     "data": {
      "text/html": [
       "4 methods for generic function <b>joint_transform</b>:<ul><li> joint_transform<i>{T<:Real}</i>(j::<b>RigidBodyDynamics.Joint{T<:Real}</b>, jt::<b>RigidBodyDynamics.QuaternionFloating{T<:Real}</b>, q::<b>AbstractArray{T<:Real,1}</b>) at <a href=\"https://github.com/tkoolen/RigidBodyDynamics.jl/tree/437d2c7a723d97591ac7ded732cc0c1905f519a3/im/packages/v0.4/RigidBodyDynamics/src/joint.jl#L69\" target=\"_blank\">/Users/twan/code/julia/RigidBodyDynamicsSim/packages/v0.4/RigidBodyDynamics/src/joint.jl:69</a><li> joint_transform<i>{T1<:Real,T2}</i>(j::<b>RigidBodyDynamics.Joint{T<:Real}</b>, jt::<b>RigidBodyDynamics.Prismatic{T2}</b>, q::<b>AbstractArray{T1<:Real,1}</b>) at <a href=\"https://github.com/tkoolen/RigidBodyDynamics.jl/tree/437d2c7a723d97591ac7ded732cc0c1905f519a3/im/packages/v0.4/RigidBodyDynamics/src/joint.jl#L137\" target=\"_blank\">/Users/twan/code/julia/RigidBodyDynamicsSim/packages/v0.4/RigidBodyDynamics/src/joint.jl:137</a><li> joint_transform<i>{T1,T2}</i>(j::<b>RigidBodyDynamics.Joint{T<:Real}</b>, jt::<b>RigidBodyDynamics.Revolute{T2}</b>, q::<b>AbstractArray{T1,1}</b>) at <a href=\"https://github.com/tkoolen/RigidBodyDynamics.jl/tree/437d2c7a723d97591ac7ded732cc0c1905f519a3/im/packages/v0.4/RigidBodyDynamics/src/joint.jl#L156\" target=\"_blank\">/Users/twan/code/julia/RigidBodyDynamicsSim/packages/v0.4/RigidBodyDynamics/src/joint.jl:156</a><li> joint_transform<i>{T}</i>(j::<b>RigidBodyDynamics.Joint{T<:Real}</b>, jt::<b>RigidBodyDynamics.Fixed{T<:Real}</b>, q::<b>AbstractArray{T,1}</b>) at <a href=\"https://github.com/tkoolen/RigidBodyDynamics.jl/tree/437d2c7a723d97591ac7ded732cc0c1905f519a3/im/packages/v0.4/RigidBodyDynamics/src/joint.jl#L186\" target=\"_blank\">/Users/twan/code/julia/RigidBodyDynamicsSim/packages/v0.4/RigidBodyDynamics/src/joint.jl:186</a></ul>"
      ],
      "text/plain": [
       "# 4 methods for generic function \"joint_transform\":\n",
       "joint_transform{T<:Real}(j::RigidBodyDynamics.Joint{T<:Real}, jt::RigidBodyDynamics.QuaternionFloating{T<:Real}, q::AbstractArray{T<:Real,1}) at /Users/twan/code/julia/RigidBodyDynamicsSim/packages/v0.4/RigidBodyDynamics/src/joint.jl:69\n",
       "joint_transform{T1<:Real,T2}(j::RigidBodyDynamics.Joint{T<:Real}, jt::RigidBodyDynamics.Prismatic{T2}, q::AbstractArray{T1<:Real,1}) at /Users/twan/code/julia/RigidBodyDynamicsSim/packages/v0.4/RigidBodyDynamics/src/joint.jl:137\n",
       "joint_transform{T1,T2}(j::RigidBodyDynamics.Joint{T<:Real}, jt::RigidBodyDynamics.Revolute{T2}, q::AbstractArray{T1,1}) at /Users/twan/code/julia/RigidBodyDynamicsSim/packages/v0.4/RigidBodyDynamics/src/joint.jl:156\n",
       "joint_transform{T}(j::RigidBodyDynamics.Joint{T<:Real}, jt::RigidBodyDynamics.Fixed{T<:Real}, q::AbstractArray{T,1}) at /Users/twan/code/julia/RigidBodyDynamicsSim/packages/v0.4/RigidBodyDynamics/src/joint.jl:186"
      ]
     },
     "execution_count": 4,
     "metadata": {},
     "output_type": "execute_result"
    }
   ],
   "source": [
    "methods(joint_transform)"
   ]
  },
  {
   "cell_type": "code",
   "execution_count": 10,
   "metadata": {
    "collapsed": false
   },
   "outputs": [
    {
     "data": {
      "text/plain": [
       ":(joint_transform{J,X}(joint::Joint{J},q::AbstractVector{X})::Transform3D{promote_type(J,T)})"
      ]
     },
     "execution_count": 10,
     "metadata": {},
     "output_type": "execute_result"
    }
   ],
   "source": [
    "expr = :(joint_transform{J, X}(joint::Joint{J}, q::AbstractVector{X})::Transform3D{promote_type(J, T)})"
   ]
  },
  {
   "cell_type": "code",
   "execution_count": 11,
   "metadata": {
    "collapsed": false
   },
   "outputs": [
    {
     "data": {
      "text/plain": [
       "2-element Array{Any,1}:\n",
       " :(joint_transform{J,X}(joint::Joint{J},q::AbstractVector{X}))\n",
       " :(Transform3D{promote_type(J,T)})                            "
      ]
     },
     "execution_count": 11,
     "metadata": {},
     "output_type": "execute_result"
    }
   ],
   "source": [
    "expr.args"
   ]
  },
  {
   "cell_type": "code",
   "execution_count": 15,
   "metadata": {
    "collapsed": false
   },
   "outputs": [
    {
     "data": {
      "text/plain": [
       "true"
      ]
     },
     "execution_count": 15,
     "metadata": {},
     "output_type": "execute_result"
    }
   ],
   "source": [
    "expr.head == :(::)"
   ]
  },
  {
   "cell_type": "code",
   "execution_count": 25,
   "metadata": {
    "collapsed": false
   },
   "outputs": [
    {
     "data": {
      "text/plain": [
       "4-element Array{Expr,1}:\n",
       " :((RigidBodyDynamics.Fixed){J})             \n",
       " :((RigidBodyDynamics.Prismatic){J})         \n",
       " :((RigidBodyDynamics.Revolute){J})          \n",
       " :((RigidBodyDynamics.QuaternionFloating){J})"
      ]
     },
     "execution_count": 25,
     "metadata": {},
     "output_type": "execute_result"
    }
   ],
   "source": []
  },
  {
   "cell_type": "code",
   "execution_count": 40,
   "metadata": {
    "collapsed": false
   },
   "outputs": [],
   "source": [
    "macro joint_type_dependent_function(signature)\n",
    "    @assert signature.head == :(::)\n",
    "    functionCall = signature.args[1]\n",
    "    @assert functionCall.head == :call\n",
    "    returnType = signature.args[2]\n",
    "    functionWithParams = functionCall.args[1]\n",
    "    functionName = functionWithParams.args[1]\n",
    "    functionArgs = functionCall.args[2:end]\n",
    "    argsWithoutType = [arg.args[1] for arg in functionArgs]\n",
    "    joint = argsWithoutType[1]\n",
    "    J = functionArgs[1].args[2].args[2]\n",
    "    jointTypes = [:($(typ.name){$J}) for typ in mostSpecificSubTypes(JointType)]\n",
    "    ret = quote\n",
    "        function $(functionWithParams)($(functionArgs...))\n",
    "            ret::$(returnType)\n",
    "            jointType = $(joint).jointType\n",
    "            if isa(jointType, Fixed{J})\n",
    "            ret = $functionName($joint, $(joint).jointType::Fixed{$(J)}, $(argsWithoutType...))\n",
    "            elseif isa(jointType, Revolute{J})\n",
    "                ret = $functionName($joint, $(joint).jointType::Revolute{$(J)}, $(argsWithoutType...))\n",
    "            elseif isa(jointType, Prismatic{J})\n",
    "                ret = $functionName($joint, $(joint).jointType::Prismatic{$(J)}, $(argsWithoutType...))\n",
    "            elseif isa(jointType, QuaternionFloating{J})\n",
    "                ret = $functionName($joint, $(joint).jointType::QuaternionFloating{$(J)}, $(argsWithoutType...))\n",
    "            else\n",
    "                ret = $(returnType)()\n",
    "            end\n",
    "            ret\n",
    "        end\n",
    "    end\n",
    "    println(ret)\n",
    "end"
   ]
  },
  {
   "cell_type": "code",
   "execution_count": 41,
   "metadata": {
    "collapsed": false
   },
   "outputs": [
    {
     "name": "stdout",
     "output_type": "stream",
     "text": [
      "begin  # In[40], line 14:\n",
      "    function joint_transform{J,X}(j::Joint{J},q::AbstractVector{X}) # In[40], line 15:\n",
      "        ret::Transform3D{promote_type(J,X)} # In[40], line 16:\n",
      "        jointType = j.jointType # In[40], line 17:\n",
      "        if isa(jointType,Fixed{J}) # In[40], line 18:\n",
      "            ret = joint_transform(j,j.jointType::Fixed{J},j,q)\n",
      "        else  # In[40], line 19:\n",
      "            if isa(jointType,Revolute{J}) # In[40], line 20:\n",
      "                ret = joint_transform(j,j.jointType::Revolute{J},j,q)\n",
      "            else  # In[40], line 21:\n",
      "                if isa(jointType,Prismatic{J}) # In[40], line 22:\n",
      "                    ret = joint_transform(j,j.jointType::Prismatic{J},j,q)\n",
      "                else  # In[40], line 23:\n",
      "                    if isa(jointType,QuaternionFloating{J}) # In[40], line 24:\n",
      "                        ret = joint_transform(j,j.jointType::QuaternionFloating{J},j,q)\n",
      "                    else  # In[40], line 26:\n",
      "                        ret = Transform3D{promote_type(J,X)}()\n",
      "                    end\n",
      "                end\n",
      "            end\n",
      "        end # In[40], line 28:\n",
      "        ret\n",
      "    end\n",
      "end\n"
     ]
    }
   ],
   "source": [
    "bla = @joint_type_dependent_function joint_transform{J, X}(j::Joint{J}, q::AbstractVector{X})::Transform3D{promote_type(J, X)}"
   ]
  },
  {
   "cell_type": "code",
   "execution_count": 37,
   "metadata": {
    "collapsed": false
   },
   "outputs": [
    {
     "data": {
      "text/plain": [
       "#212#joint_transform (generic function with 1 method)"
      ]
     },
     "execution_count": 37,
     "metadata": {},
     "output_type": "execute_result"
    }
   ],
   "source": [
    "bla"
   ]
  },
  {
   "cell_type": "code",
   "execution_count": 26,
   "metadata": {
    "collapsed": false
   },
   "outputs": [
    {
     "data": {
      "text/plain": [
       ":(joint_transform{J,X}(j::Joint{J},q::AbstractVector{X})::Transform3D{promote_type(J,X)})"
      ]
     },
     "execution_count": 26,
     "metadata": {},
     "output_type": "execute_result"
    }
   ],
   "source": [
    "signature = :(joint_transform{J, X}(j::Joint{J}, q::AbstractVector{X})::Transform3D{promote_type(J, X)})"
   ]
  },
  {
   "cell_type": "code",
   "execution_count": 29,
   "metadata": {
    "collapsed": false
   },
   "outputs": [
    {
     "data": {
      "text/plain": [
       ":call"
      ]
     },
     "execution_count": 29,
     "metadata": {},
     "output_type": "execute_result"
    }
   ],
   "source": [
    "signature.args[1].head"
   ]
  },
  {
   "cell_type": "code",
   "execution_count": 23,
   "metadata": {
    "collapsed": false
   },
   "outputs": [
    {
     "data": {
      "text/plain": [
       "1-element Array{Any,1}:\n",
       " :q"
      ]
     },
     "execution_count": 23,
     "metadata": {},
     "output_type": "execute_result"
    }
   ],
   "source": [
    "functionCall = signature.args[1]\n",
    "returnType = signature.args[2]\n",
    "functionWithParams = functionCall.args[1]\n",
    "functionName = functionWithParams.args[1]\n",
    "functionArgs = functionCall.args[2:end]\n",
    "argsWithoutType = [arg.args[1] for arg in functionArgs]\n",
    "joint = argsWithoutType[1]\n",
    "J = functionArgs[1].args[2].args[2]\n",
    "argsWithoutType = argsWithoutType[2:end] # skip joint"
   ]
  },
  {
   "cell_type": "code",
   "execution_count": 3,
   "metadata": {
    "collapsed": false
   },
   "outputs": [],
   "source": [
    "# abstract JointType{T}\n",
    "# immutable QuaternionFloating{T}<:JointType{T} end\n",
    "# type Joint{JT<:JointType}\n",
    "#     jt::JT\n",
    "# end"
   ]
  },
  {
   "cell_type": "code",
   "execution_count": 4,
   "metadata": {
    "collapsed": false
   },
   "outputs": [
    {
     "data": {
      "text/plain": [
       "scalartype (generic function with 1 method)"
      ]
     },
     "execution_count": 4,
     "metadata": {},
     "output_type": "execute_result"
    }
   ],
   "source": [
    "scalartype{T<:JointType}(t::Type{T}) = t.parameters[1]"
   ]
  },
  {
   "cell_type": "code",
   "execution_count": 4,
   "metadata": {
    "collapsed": false
   },
   "outputs": [
    {
     "data": {
      "text/plain": [
       "concreteSubTypes (generic function with 1 method)"
      ]
     },
     "execution_count": 4,
     "metadata": {},
     "output_type": "execute_result"
    }
   ],
   "source": [
    "function concreteSubTypes(T::DataType)\n",
    "    types = DataType[]\n",
    "    if isleaftype(T)\n",
    "        push!(types, T)\n",
    "    else\n",
    "        for S in subtypes(T)\n",
    "            if S != T   # guard against infinite recursion, Any is a subtype of itself\n",
    "                append!(types, concreteSubTypes(S))\n",
    "            end\n",
    "        end\n",
    "    end\n",
    "    return types\n",
    "end"
   ]
  },
  {
   "cell_type": "code",
   "execution_count": 4,
   "metadata": {
    "collapsed": false
   },
   "outputs": [
    {
     "data": {
      "text/plain": [
       "Union{RigidBodyDynamics.Fixed{T},RigidBodyDynamics.Prismatic{T},RigidBodyDynamics.QuaternionFloating{T},RigidBodyDynamics.Revolute{T}}"
      ]
     },
     "execution_count": 4,
     "metadata": {},
     "output_type": "execute_result"
    }
   ],
   "source": [
    "typealias JointTypesUnion{T} Union{RigidBodyDynamics.Fixed{T},RigidBodyDynamics.Prismatic{T},RigidBodyDynamics.QuaternionFloating{T},RigidBodyDynamics.Revolute{T}}"
   ]
  },
  {
   "cell_type": "code",
   "execution_count": 5,
   "metadata": {
    "collapsed": false
   },
   "outputs": [
    {
     "data": {
      "text/plain": [
       "delegate (generic function with 1 method)"
      ]
     },
     "execution_count": 5,
     "metadata": {},
     "output_type": "execute_result"
    }
   ],
   "source": [
    "function delegate{T}(joint::Joint{T}, jt::JointTypesUnion{T}, q, v)\n",
    "    bias_acceleration(joint.frameAfter, joint.frameBefore, jt, q, v)\n",
    "end"
   ]
  },
  {
   "cell_type": "code",
   "execution_count": 6,
   "metadata": {
    "collapsed": false
   },
   "outputs": [
    {
     "data": {
      "text/plain": [
       "test (generic function with 1 method)"
      ]
     },
     "execution_count": 6,
     "metadata": {},
     "output_type": "execute_result"
    }
   ],
   "source": [
    "const js = joints(mechanism)\n",
    "function test()\n",
    "    for j in js\n",
    "        delegate(j, j.jointType, q, v)\n",
    "    end\n",
    "end"
   ]
  },
  {
   "cell_type": "code",
   "execution_count": 7,
   "metadata": {
    "collapsed": false
   },
   "outputs": [
    {
     "data": {
      "text/plain": [
       "Revolute joint with axis Vec(0.01479385771837995,0.677032407400846,0.7358044992406768)"
      ]
     },
     "execution_count": 7,
     "metadata": {},
     "output_type": "execute_result"
    }
   ],
   "source": [
    "jt2 = j.jointType::JointTypesUnion"
   ]
  },
  {
   "cell_type": "code",
   "execution_count": 9,
   "metadata": {
    "collapsed": false
   },
   "outputs": [
    {
     "data": {
      "text/plain": [
       "BenchmarkTools.Trial: \n",
       "  samples:          10000\n",
       "  evals/sample:     9\n",
       "  time tolerance:   5.00%\n",
       "  memory tolerance: 1.00%\n",
       "  memory estimate:  4.61 kb\n",
       "  allocs estimate:  59\n",
       "  minimum time:     2.38 μs (0.00% GC)\n",
       "  median time:      2.46 μs (0.00% GC)\n",
       "  mean time:        2.77 μs (8.68% GC)\n",
       "  maximum time:     142.58 μs (97.87% GC)"
      ]
     },
     "execution_count": 9,
     "metadata": {},
     "output_type": "execute_result"
    }
   ],
   "source": [
    "@benchmark test()"
   ]
  },
  {
   "cell_type": "code",
   "execution_count": 21,
   "metadata": {
    "collapsed": false
   },
   "outputs": [
    {
     "data": {
      "text/plain": [
       "joint_transform_impl (generic function with 1 method)"
      ]
     },
     "execution_count": 21,
     "metadata": {},
     "output_type": "execute_result"
    }
   ],
   "source": [
    "@generated function joint_transform_impl{J, JT}(joint::Joint{J}, jointType::JT, q)\n",
    "#     X = eltype(q)\n",
    "    types = concreteSubTypes(JointType{J})\n",
    "    for t in types\n",
    "        if t == JT\n",
    "            ret = :(joint_transform(joint, joint.jointType::$(t), q)::Transform3D{J})\n",
    "            println(ret )\n",
    "            return ret\n",
    "        end\n",
    "    end\n",
    "end"
   ]
  },
  {
   "cell_type": "code",
   "execution_count": 22,
   "metadata": {
    "collapsed": false
   },
   "outputs": [
    {
     "name": "stdout",
     "output_type": "stream",
     "text": [
      "joint_transform(joint,joint.jointType::RigidBodyDynamics.Revolute{Float64},q)::Transform3D{J}\n"
     ]
    },
    {
     "data": {
      "text/plain": [
       "Transform3D from \"after_back_bkz\" to \"before_back_bkz\":\n",
       "rotation: 0.13524369933672575 rad about [0.0,0.0,0.9999999999999959], translation: Vec(0.0,0.0,0.0)\n"
      ]
     },
     "execution_count": 22,
     "metadata": {},
     "output_type": "execute_result"
    }
   ],
   "source": [
    "ret = joint_transform_impl(j, j.jointType, q)"
   ]
  },
  {
   "cell_type": "code",
   "execution_count": 7,
   "metadata": {
    "collapsed": false
   },
   "outputs": [
    {
     "data": {
      "text/plain": [
       "Joint{QuaternionFloating{Float64}}"
      ]
     },
     "execution_count": 7,
     "metadata": {},
     "output_type": "execute_result"
    }
   ],
   "source": [
    "t = typeof(j)"
   ]
  },
  {
   "cell_type": "code",
   "execution_count": 10,
   "metadata": {
    "collapsed": false
   },
   "outputs": [
    {
     "data": {
      "text/plain": [
       "Float64"
      ]
     },
     "execution_count": 10,
     "metadata": {},
     "output_type": "execute_result"
    }
   ],
   "source": [
    "t.parameters[1].parameters[1]"
   ]
  },
  {
   "cell_type": "code",
   "execution_count": 17,
   "metadata": {
    "collapsed": false
   },
   "outputs": [
    {
     "data": {
      "text/plain": [
       "Union{RigidBodyDynamics.Fixed{Float64},RigidBodyDynamics.Prismatic{Float64},RigidBodyDynamics.QuaternionFloating{Float64},RigidBodyDynamics.Revolute{Float64}}"
      ]
     },
     "execution_count": 17,
     "metadata": {},
     "output_type": "execute_result"
    }
   ],
   "source": [
    "b = "
   ]
  },
  {
   "cell_type": "code",
   "execution_count": 18,
   "metadata": {
    "collapsed": false
   },
   "outputs": [
    {
     "data": {
      "text/plain": [
       "svec(RigidBodyDynamics.Prismatic{Float64},RigidBodyDynamics.Revolute{Float64},RigidBodyDynamics.Fixed{Float64},RigidBodyDynamics.QuaternionFloating{Float64})"
      ]
     },
     "execution_count": 18,
     "metadata": {},
     "output_type": "execute_result"
    }
   ],
   "source": [
    "b.types"
   ]
  },
  {
   "cell_type": "code",
   "execution_count": 36,
   "metadata": {
    "collapsed": false
   },
   "outputs": [
    {
     "data": {
      "text/plain": [
       "joint_transform_dispatch (generic function with 1 method)"
      ]
     },
     "execution_count": 36,
     "metadata": {},
     "output_type": "execute_result"
    }
   ],
   "source": [
    "@generated function joint_transform_dispatch{J}(j, jt::JointType{J}, q)\n",
    "    for t in RigidBodyDynamics.JointTypesUnion{J}.types\n",
    "        if t == jt\n",
    "            println(t)\n",
    "            return :(joint_transform(j.frameAfter, j.frameBefore, jt::$(jt), q))\n",
    "        end\n",
    "    end\n",
    "end"
   ]
  },
  {
   "cell_type": "code",
   "execution_count": 40,
   "metadata": {
    "collapsed": false
   },
   "outputs": [
    {
     "name": "stderr",
     "output_type": "stream",
     "text": [
      "WARNING: redefining constant j\n"
     ]
    },
    {
     "data": {
      "text/plain": [
       "Joint \"back_bkx\": Revolute joint with axis Vec(1.0,0.0,0.0)"
      ]
     },
     "execution_count": 40,
     "metadata": {},
     "output_type": "execute_result"
    }
   ],
   "source": [
    "j = joints(mechanism)[3]"
   ]
  },
  {
   "cell_type": "code",
   "execution_count": 48,
   "metadata": {
    "collapsed": false
   },
   "outputs": [
    {
     "data": {
      "text/plain": [
       "test (generic function with 1 method)"
      ]
     },
     "execution_count": 48,
     "metadata": {},
     "output_type": "execute_result"
    }
   ],
   "source": [
    "function test()\n",
    "    js = joints(mechanism)\n",
    "    for i = 1 : 10000\n",
    "        for joint in js\n",
    "            joint_transform_dispatch(j, (j.jointType), q)\n",
    "        end\n",
    "    end\n",
    "end"
   ]
  },
  {
   "cell_type": "code",
   "execution_count": 58,
   "metadata": {
    "collapsed": false
   },
   "outputs": [
    {
     "name": "stdout",
     "output_type": "stream",
     "text": [
      "  0.053287 seconds (590.01 k allocations: 54.017 MB, 9.80% gc time)\n"
     ]
    }
   ],
   "source": [
    "@time test()"
   ]
  },
  {
   "cell_type": "code",
   "execution_count": 43,
   "metadata": {
    "collapsed": false
   },
   "outputs": [
    {
     "name": "stdout",
     "output_type": "stream",
     "text": [
      "\n",
      "define void @julia_joint_transform_dispatch_22744(%Transform3D* sret, %jl_value_t*, %Revolute*, %jl_value_t*) {\n",
      "top:\n",
      "  %jt = alloca %Revolute, align 8\n",
      "  %4 = alloca %Transform3D, align 8\n",
      "  %5 = alloca %CartesianFrame3D, align 8\n",
      "  %6 = alloca %CartesianFrame3D, align 8\n",
      "  %7 = load %Revolute* %2, align 8\n",
      "  store %Revolute %7, %Revolute* %jt, align 8\n",
      "  %8 = getelementptr %jl_value_t* %1, i64 2\n",
      "  %9 = bitcast %jl_value_t* %8 to %CartesianFrame3D*\n",
      "  %10 = load %CartesianFrame3D* %9, align 16\n",
      "  store %CartesianFrame3D %10, %CartesianFrame3D* %5, align 8\n",
      "  %11 = getelementptr %jl_value_t* %1, i64 1\n",
      "  %12 = bitcast %jl_value_t* %11 to %CartesianFrame3D*\n",
      "  %13 = load %CartesianFrame3D* %12, align 8\n",
      "  store %CartesianFrame3D %13, %CartesianFrame3D* %6, align 8\n",
      "  call void @julia_joint_transform_22165(%Transform3D* sret %4, %CartesianFrame3D* %5, %CartesianFrame3D* %6, %Revolute* %jt, %jl_value_t* %3)\n",
      "  %14 = load %Transform3D* %4, align 8\n",
      "  store %Transform3D %14, %Transform3D* %0, align 8\n",
      "  ret void\n",
      "}\n"
     ]
    }
   ],
   "source": [
    "@code_llvm joint_transform_dispatch(j, (j.jointType), q)"
   ]
  },
  {
   "cell_type": "code",
   "execution_count": 10,
   "metadata": {
    "collapsed": false
   },
   "outputs": [
    {
     "data": {
      "text/plain": [
       "(1.0,1.0)"
      ]
     },
     "execution_count": 10,
     "metadata": {},
     "output_type": "execute_result"
    }
   ],
   "source": [
    "promote(1., 1)"
   ]
  },
  {
   "cell_type": "code",
   "execution_count": null,
   "metadata": {
    "collapsed": true
   },
   "outputs": [],
   "source": []
  }
 ],
 "metadata": {
  "kernelspec": {
   "display_name": "Julia 0.4.5",
   "language": "julia",
   "name": "julia-0.4"
  },
  "language_info": {
   "file_extension": ".jl",
   "mimetype": "application/julia",
   "name": "julia",
   "version": "0.4.5"
  }
 },
 "nbformat": 4,
 "nbformat_minor": 0
}
