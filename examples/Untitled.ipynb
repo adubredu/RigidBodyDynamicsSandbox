{
 "cells": [
  {
   "cell_type": "code",
   "execution_count": 1,
   "metadata": {
    "collapsed": false
   },
   "outputs": [
    {
     "name": "stderr",
     "output_type": "stream",
     "text": [
      "WARNING: Base.writemime is deprecated.\n",
      "  likely near /Users/twan/code/julia/RigidBodyDynamicsSim/packages/v0.5/IJulia/src/kernel.jl:31\n",
      "WARNING: Base.writemime is deprecated.\n",
      "  likely near /Users/twan/code/julia/RigidBodyDynamicsSim/packages/v0.5/IJulia/src/kernel.jl:31\n",
      "WARNING: Base.writemime is deprecated.\n",
      "  likely near /Users/twan/code/julia/RigidBodyDynamicsSim/packages/v0.5/IJulia/src/kernel.jl:31\n",
      "WARNING: Base.writemime is deprecated.\n",
      "  likely near /Users/twan/code/julia/RigidBodyDynamicsSim/packages/v0.5/IJulia/src/kernel.jl:31\n"
     ]
    }
   ],
   "source": [
    "using Quaternions\n",
    "using FixedSizeArrays"
   ]
  },
  {
   "cell_type": "code",
   "execution_count": 5,
   "metadata": {
    "collapsed": true
   },
   "outputs": [],
   "source": [
    "abstract JointType"
   ]
  },
  {
   "cell_type": "code",
   "execution_count": 6,
   "metadata": {
    "collapsed": false
   },
   "outputs": [
    {
     "name": "stderr",
     "output_type": "stream",
     "text": [
      "WARNING: Method definition (::Type{Main.Joint})(Main.JointType) in module Main at In[4]:2 overwritten at In[6]:2.\n",
      "WARNING: Method definition (::Type{Main.Joint})(Any) in module Main at In[4]:2 overwritten at In[6]:2.\n"
     ]
    }
   ],
   "source": [
    "immutable Joint\n",
    "    jointType::JointType\n",
    "end"
   ]
  },
  {
   "cell_type": "code",
   "execution_count": 7,
   "metadata": {
    "collapsed": false
   },
   "outputs": [],
   "source": [
    "type QuaternionFloating <: JointType\n",
    "end"
   ]
  },
  {
   "cell_type": "code",
   "execution_count": 8,
   "metadata": {
    "collapsed": false
   },
   "outputs": [
    {
     "data": {
      "text/plain": [
       "configuration_derivative_to_velocity"
      ]
     },
     "execution_count": 8,
     "metadata": {},
     "output_type": "execute_result"
    },
    {
     "name": "stderr",
     "output_type": "stream",
     "text": [
      "WARNING: Base.writemime is deprecated.\n",
      "  likely near /Users/twan/code/julia/RigidBodyDynamicsSim/packages/v0.5/IJulia/src/kernel.jl:31\n",
      "WARNING: Base.writemime is deprecated.\n",
      "  likely near /Users/twan/code/julia/RigidBodyDynamicsSim/packages/v0.5/IJulia/src/kernel.jl:31\n",
      "WARNING: Base.writemime is deprecated.\n",
      "  likely near /Users/twan/code/julia/RigidBodyDynamicsSim/packages/v0.5/IJulia/src/kernel.jl:31\n",
      "WARNING: Base.writemime is deprecated.\n",
      "  likely near /Users/twan/code/julia/RigidBodyDynamicsSim/packages/v0.5/IJulia/src/kernel.jl:31\n",
      "WARNING: Base.writemime is deprecated.\n",
      "  likely near /Users/twan/code/julia/RigidBodyDynamicsSim/packages/v0.5/IJulia/src/kernel.jl:31\n",
      "in display_dict at /Users/twan/code/julia/RigidBodyDynamicsSim/packages/v0.5/IJulia/src/execute_request.jl\n",
      "WARNING: Base.writemime is deprecated.\n",
      "  likely near /Users/twan/code/julia/RigidBodyDynamicsSim/packages/v0.5/IJulia/src/kernel.jl:31\n",
      "in display_dict at /Users/twan/code/julia/RigidBodyDynamicsSim/packages/v0.5/IJulia/src/execute_request.jl\n"
     ]
    }
   ],
   "source": [
    "function configuration_derivative_to_velocity(j::Joint, jt::QuaternionFloating, q::AbstractVector, q̇::AbstractVector)\n",
    "    quat = Quaternion(q[1], q[2 : 4])\n",
    "    Quaternions.normalize(quat)\n",
    "    quatdot = Quaternion(q̇[1], q̇[2 : 4])\n",
    "    posdot = Vec(q̇[5], q̇[6], q̇[7])\n",
    "    linear = rotate(posdot, inv(quat))\n",
    "    angularQuat = 2 * inv(quat) * quatdot\n",
    "    return [angularQuat.v1; angularQuat.v2; angularQuat.v3; linear...]\n",
    "end"
   ]
  },
  {
   "cell_type": "code",
   "execution_count": 24,
   "metadata": {
    "collapsed": false
   },
   "outputs": [
    {
     "name": "stderr",
     "output_type": "stream",
     "text": [
      "WARNING: Method definition @joint_type_dependent_function(ANY<:Any) in module Main at In[14]:7 overwritten at In[24]:7.\n"
     ]
    },
    {
     "data": {
      "text/plain": [
       "@joint_type_dependent_function"
      ]
     },
     "execution_count": 24,
     "metadata": {},
     "output_type": "execute_result"
    }
   ],
   "source": [
    "macro joint_type_dependent_function(signature)\n",
    "    # given a function signature f(args...), generates a function\n",
    "    # f(joint::Joint, args...) that delegates to a function\n",
    "    # f(joint::Joint, jointType::JointType, args...)\n",
    "    # which should be implemented by the creator of a new joint type\n",
    "    \n",
    "    functionName = signature.args[1]\n",
    "    functionArgs = signature.args[2:end]\n",
    "    \n",
    "    @show quote\n",
    "        function $(functionName)(joint::Joint, $(functionArgs...))\n",
    "            $(functionName)(joint, joint.jointType, $(functionArgs...))\n",
    "        end\n",
    "    end\n",
    "\n",
    "    eval(quote\n",
    "        function $(functionName)(joint::Joint, $(functionArgs...))\n",
    "            $(functionName)(joint, joint.jointType, $(functionArgs...))\n",
    "        end\n",
    "    end)\n",
    "end"
   ]
  },
  {
   "cell_type": "code",
   "execution_count": 19,
   "metadata": {
    "collapsed": false
   },
   "outputs": [
    {
     "ename": "LoadError",
     "evalue": "LoadError: syntax: invalid \"::\" syntax\nwhile loading In[19], in expression starting on line 1",
     "output_type": "error",
     "traceback": [
      "LoadError: syntax: invalid \"::\" syntax\nwhile loading In[19], in expression starting on line 1",
      "",
      " in include_string(::String, ::String) at ./loading.jl:380",
      " in eventloop(::ZMQ.Socket) at /Users/twan/code/julia/RigidBodyDynamicsSim/packages/v0.5/IJulia/src/IJulia.jl:143",
      " in (::IJulia.##24#30)() at ./task.jl:315"
     ]
    }
   ],
   "source": [
    "@joint_type_dependent_function configuration_derivative_to_velocity(q::AbstractVector, q̇::AbstractVector)"
   ]
  },
  {
   "cell_type": "code",
   "execution_count": null,
   "metadata": {
    "collapsed": true
   },
   "outputs": [],
   "source": [
    "bla{T}(joint,joint.jointType,t::Type{T})"
   ]
  },
  {
   "cell_type": "code",
   "execution_count": 25,
   "metadata": {
    "collapsed": false
   },
   "outputs": [
    {
     "name": "stdout",
     "output_type": "stream",
     "text": [
      "$(Expr(:quote, quote  # In[24], line 11:\n",
      "    function ($(Expr(:$, :functionName)))(joint::Joint,$(Expr(:$, :((functionArgs...,))))) # In[24], line 12:\n",
      "        ($(Expr(:$, :functionName)))(joint,joint.jointType,$(Expr(:$, :((functionArgs...,)))))\n",
      "    end\n",
      "end)) = quote  # In[24], line 11:\n",
      "    function bla{T}(joint::Joint,t::Type{T}) # In[24], line 12:\n",
      "        bla{T}(joint,joint.jointType,t::Type{T})\n",
      "    end\n",
      "end\n"
     ]
    },
    {
     "name": "stderr",
     "output_type": "stream",
     "text": [
      "WARNING: Method definition bla(Main.Joint, Type{#T<:Any}) in module Main at In[14]:12 overwritten at In[24]:18.\n"
     ]
    },
    {
     "data": {
      "text/plain": [
       "bla"
      ]
     },
     "execution_count": 25,
     "metadata": {},
     "output_type": "execute_result"
    }
   ],
   "source": [
    "@joint_type_dependent_function bla{T}(t::Type{T})"
   ]
  },
  {
   "cell_type": "code",
   "execution_count": 16,
   "metadata": {
    "collapsed": false
   },
   "outputs": [
    {
     "data": {
      "text/plain": [
       "Joint(QuaternionFloating())"
      ]
     },
     "execution_count": 16,
     "metadata": {},
     "output_type": "execute_result"
    }
   ],
   "source": [
    "j = Joint(QuaternionFloating())"
   ]
  },
  {
   "cell_type": "code",
   "execution_count": 17,
   "metadata": {
    "collapsed": false
   },
   "outputs": [
    {
     "ename": "LoadError",
     "evalue": "LoadError: UndefVarError: rotate not defined\nwhile loading In[17], in expression starting on line 1",
     "output_type": "error",
     "traceback": [
      "LoadError: UndefVarError: rotate not defined\nwhile loading In[17], in expression starting on line 1",
      "",
      " in configuration_derivative_to_velocity(::Joint, ::QuaternionFloating, ::Array{Float64,1}, ::Array{Float64,1}) at ./In[8]:6",
      " in configuration_derivative_to_velocity(::Joint, ::Array{Float64,1}, ::Array{Float64,1}) at ./In[9]:11",
      " in include_string(::String, ::String) at ./loading.jl:380",
      " in eventloop(::ZMQ.Socket) at /Users/twan/code/julia/RigidBodyDynamicsSim/packages/v0.5/IJulia/src/IJulia.jl:143",
      " in (::IJulia.##24#30)() at ./task.jl:315"
     ]
    }
   ],
   "source": [
    "configuration_derivative_to_velocity(j, rand(7), rand(7))"
   ]
  },
  {
   "cell_type": "code",
   "execution_count": 62,
   "metadata": {
    "collapsed": false
   },
   "outputs": [
    {
     "ename": "LoadError",
     "evalue": "LoadError: syntax: unhandled expr (escape (block (line 13 In[59]) (block (method qdottov) (block (method qdottov (call (core svec) (call (core apply_type) Tuple (call (core Typeof) qdottov) Joint AbstractVector) (call (core svec))) (lambda (#self# joint q) (((#self# Any 0) (joint Any 0) (q Any 0)) () 0 ()) (block (line 14 In[59]) (call qdottov joint (call (core getfield) joint (inert jointType)) (call (core typeassert) q AbstractVector)))) #f)) (unnecessary qdottov))))\nwhile loading In[62], in expression starting on line 1",
     "output_type": "error",
     "traceback": [
      "LoadError: syntax: unhandled expr (escape (block (line 13 In[59]) (block (method qdottov) (block (method qdottov (call (core svec) (call (core apply_type) Tuple (call (core Typeof) qdottov) Joint AbstractVector) (call (core svec))) (lambda (#self# joint q) (((#self# Any 0) (joint Any 0) (q Any 0)) () 0 ()) (block (line 14 In[59]) (call qdottov joint (call (core getfield) joint (inert jointType)) (call (core typeassert) q AbstractVector)))) #f)) (unnecessary qdottov))))\nwhile loading In[62], in expression starting on line 1",
      "",
      " in eval(::Module, ::Any) at ./boot.jl:225",
      " in eval(::Any) at ./boot.jl:224",
      " in include_string(::String, ::String) at ./loading.jl:380",
      " in eventloop(::ZMQ.Socket) at /Users/twan/code/julia/RigidBodyDynamicsSim/packages/v0.5/IJulia/src/IJulia.jl:143",
      " in (::IJulia.##24#30)() at ./task.jl:315"
     ]
    }
   ],
   "source": [
    "eval(f)"
   ]
  },
  {
   "cell_type": "code",
   "execution_count": 56,
   "metadata": {
    "collapsed": false
   },
   "outputs": [
    {
     "name": "stdout",
     "output_type": "stream",
     "text": [
      "#29#qdottov (function of type ##29#qdottov)"
     ]
    }
   ],
   "source": [
    "dump(f)"
   ]
  },
  {
   "cell_type": "code",
   "execution_count": 17,
   "metadata": {
    "collapsed": false
   },
   "outputs": [
    {
     "data": {
      "text/plain": [
       "quote  # In[17], line 1:\n",
       "    qdottov(q::AbstractVector)\n",
       "end"
      ]
     },
     "execution_count": 17,
     "metadata": {},
     "output_type": "execute_result"
    }
   ],
   "source": [
    "expr = quote qdottov(q::AbstractVector) end"
   ]
  },
  {
   "cell_type": "code",
   "execution_count": 18,
   "metadata": {
    "collapsed": false
   },
   "outputs": [
    {
     "data": {
      "text/plain": [
       ":block"
      ]
     },
     "execution_count": 18,
     "metadata": {},
     "output_type": "execute_result"
    }
   ],
   "source": [
    "expr.head"
   ]
  },
  {
   "cell_type": "code",
   "execution_count": 31,
   "metadata": {
    "collapsed": false
   },
   "outputs": [
    {
     "data": {
      "text/plain": [
       ":qdottov"
      ]
     },
     "execution_count": 31,
     "metadata": {},
     "output_type": "execute_result"
    }
   ],
   "source": [
    "functionName = expr.args[2].args[1]"
   ]
  },
  {
   "cell_type": "code",
   "execution_count": 32,
   "metadata": {
    "collapsed": false
   },
   "outputs": [
    {
     "data": {
      "text/plain": [
       "Any[:(q::AbstractVector)]"
      ]
     },
     "execution_count": 32,
     "metadata": {},
     "output_type": "execute_result"
    }
   ],
   "source": [
    "functionArgs = expr.args[2].args[2 : end]"
   ]
  },
  {
   "cell_type": "code",
   "execution_count": 1,
   "metadata": {
    "collapsed": false
   },
   "outputs": [
    {
     "data": {
      "text/html": [
       "@static(ex::<b>ANY<:Any</b>) at <a href=\"https://github.com/JuliaLang/julia/tree/643bac816a8b034aed780a507dfed4bf3f87698e/base/osutils.jl#L61\" target=\"_blank\">osutils.jl:61</a>"
      ],
      "text/plain": [
       "@static(ex::ANY<:Any) at osutils.jl:61"
      ]
     },
     "execution_count": 1,
     "metadata": {},
     "output_type": "execute_result"
    }
   ],
   "source": [
    "@which @static true"
   ]
  },
  {
   "cell_type": "code",
   "execution_count": 8,
   "metadata": {
    "collapsed": true
   },
   "outputs": [],
   "source": [
    "using StaticArrays"
   ]
  },
  {
   "cell_type": "code",
   "execution_count": 10,
   "metadata": {
    "collapsed": false
   },
   "outputs": [
    {
     "data": {
      "text/plain": [
       "true"
      ]
     },
     "execution_count": 10,
     "metadata": {},
     "output_type": "execute_result"
    }
   ],
   "source": [
    "SMatrix{3, 3, Float64}<:AbstractArray"
   ]
  },
  {
   "cell_type": "code",
   "execution_count": 13,
   "metadata": {
    "collapsed": false
   },
   "outputs": [
    {
     "name": "stdout",
     "output_type": "stream",
     "text": [
      "search: AbstractMatrix AbstractSparseMatrix AbstractVecOrMat\n",
      "\n"
     ]
    },
    {
     "data": {
      "text/markdown": [
       "No documentation found.\n",
       "\n",
       "`Base.AbstractMatrix` is of type `TypeConstructor`.\n",
       "\n",
       "**Summary:**\n",
       "\n",
       "```\n",
       "immutable TypeConstructor <: Type{T}\n",
       "```\n",
       "\n",
       "**Fields:**\n",
       "\n",
       "```\n",
       "parameters :: SimpleVector\n",
       "body       :: Any\n",
       "```\n"
      ],
      "text/plain": [
       "No documentation found.\n",
       "\n",
       "`Base.AbstractMatrix` is of type `TypeConstructor`.\n",
       "\n",
       "**Summary:**\n",
       "\n",
       "```\n",
       "immutable TypeConstructor <: Type{T}\n",
       "```\n",
       "\n",
       "**Fields:**\n",
       "\n",
       "```\n",
       "parameters :: SimpleVector\n",
       "body       :: Any\n",
       "```\n"
      ]
     },
     "execution_count": 13,
     "metadata": {},
     "output_type": "execute_result"
    }
   ],
   "source": [
    "?AbstractMatrix"
   ]
  },
  {
   "cell_type": "code",
   "execution_count": 14,
   "metadata": {
    "collapsed": false
   },
   "outputs": [
    {
     "data": {
      "text/plain": [
       "2×2 Array{Float64,2}:\n",
       " 0.511805  0.150456\n",
       " 0.261382  0.370383"
      ]
     },
     "execution_count": 14,
     "metadata": {},
     "output_type": "execute_result"
    }
   ],
   "source": [
    "A = rand(2, 2)"
   ]
  },
  {
   "cell_type": "code",
   "execution_count": 16,
   "metadata": {
    "collapsed": false
   },
   "outputs": [
    {
     "data": {
      "text/plain": [
       "Array{Float64,1}"
      ]
     },
     "execution_count": 16,
     "metadata": {},
     "output_type": "execute_result"
    }
   ],
   "source": [
    "typeof(A[:, 1])"
   ]
  },
  {
   "cell_type": "code",
   "execution_count": 17,
   "metadata": {
    "collapsed": false
   },
   "outputs": [
    {
     "data": {
      "text/plain": [
       "Float64"
      ]
     },
     "execution_count": 17,
     "metadata": {},
     "output_type": "execute_result"
    }
   ],
   "source": [
    "eltype(Array{Float64, 1})"
   ]
  },
  {
   "cell_type": "code",
   "execution_count": 21,
   "metadata": {
    "collapsed": false
   },
   "outputs": [
    {
     "data": {
      "text/plain": [
       "2×2 StaticArrays.SMatrix{2,2,Int64,4}:\n",
       " 1  2\n",
       " 3  4"
      ]
     },
     "execution_count": 21,
     "metadata": {},
     "output_type": "execute_result"
    }
   ],
   "source": [
    "a = @SMatrix [1 2; 3 4]"
   ]
  },
  {
   "cell_type": "code",
   "execution_count": null,
   "metadata": {
    "collapsed": true
   },
   "outputs": [],
   "source": []
  }
 ],
 "metadata": {
  "kernelspec": {
   "display_name": "Julia 0.5.0-rc0",
   "language": "julia",
   "name": "julia-0.5"
  },
  "language_info": {
   "file_extension": ".jl",
   "mimetype": "application/julia",
   "name": "julia",
   "version": "0.5.0"
  }
 },
 "nbformat": 4,
 "nbformat_minor": 0
}
