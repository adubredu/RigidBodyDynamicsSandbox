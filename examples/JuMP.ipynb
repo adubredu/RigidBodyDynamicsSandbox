{
 "cells": [
  {
   "cell_type": "code",
   "execution_count": 1,
   "metadata": {
    "collapsed": false
   },
   "outputs": [],
   "source": [
    "push!(LOAD_PATH, \"../src\")\n",
    "using RigidBodyDynamicsSim\n",
    "using RigidBodyDynamics\n",
    "using JuMP\n",
    "using Memoize\n",
    "using ProfileView"
   ]
  },
  {
   "cell_type": "code",
   "execution_count": 2,
   "metadata": {
    "collapsed": false
   },
   "outputs": [],
   "source": [
    "# filename = \"/Users/twan/code/drake-distro/drake/examples/Pendulum/Pendulum.urdf\"\n",
    "# filename = \"/Users/twan/code/drake-distro/drake/examples/Acrobot/Acrobot.urdf\"\n",
    "filename = \"/Users/twan/code/drake-distro/drake/examples/Strandbeest/Strandbeest.urdf\"\n",
    "mechanism = parse_urdf(Float64, filename);"
   ]
  },
  {
   "cell_type": "code",
   "execution_count": 5,
   "metadata": {
    "collapsed": false
   },
   "outputs": [
    {
     "name": "stdout",
     "output_type": "stream",
     "text": [
      "Min 0\n",
      "Subject to\n",
      " 73 nonlinear constraints\n",
      " q[i] free ∀ i ∈ {1,2,…,72,73}\n",
      "\n",
      "******************************************************************************\n",
      "This program contains Ipopt, a library for large-scale nonlinear optimization.\n",
      " Ipopt is released as open source code under the Eclipse Public License (EPL).\n",
      "         For more information visit http://projects.coin-or.org/Ipopt\n",
      "******************************************************************************\n",
      "\n",
      "This is Ipopt version 3.12.4, running with linear solver mumps.\n",
      "NOTE: Other linear solvers might be more efficient (see Ipopt documentation).\n",
      "\n",
      "Number of nonzeros in equality constraint Jacobian...:     5329\n",
      "Number of nonzeros in inequality constraint Jacobian.:        0\n",
      "Number of nonzeros in Lagrangian Hessian.............:        0\n",
      "\n",
      "Total number of variables............................:       73\n",
      "                     variables with only lower bounds:        0\n",
      "                variables with lower and upper bounds:        0\n",
      "                     variables with only upper bounds:        0\n",
      "Total number of equality constraints.................:       73\n",
      "Total number of inequality constraints...............:        0\n",
      "        inequality constraints with only lower bounds:        0\n",
      "   inequality constraints with lower and upper bounds:        0\n",
      "        inequality constraints with only upper bounds:        0\n",
      "\n",
      "iter    objective    inf_pr   inf_du lg(mu)  ||d||  lg(rg) alpha_du alpha_pr  ls\n",
      "   0  0.0000000e+00 1.50e+01 0.00e+00   0.0 0.00e+00    -  0.00e+00 0.00e+00   0\n",
      "   1  0.0000000e+00 8.81e+00 3.90e+04 -11.0 1.55e+02    -  1.00e+00 1.00e+00h  1\n",
      "   2  0.0000000e+00 9.68e+00 2.32e+07 -11.0 9.73e+02    -  1.00e+00 1.00e+00H  1\n",
      "   3  0.0000000e+00 7.29e+00 6.38e+06 -11.0 1.32e+01    -  1.00e+00 1.00e+00h  1\n",
      "   4  0.0000000e+00 6.13e+00 2.41e+08 -11.0 4.80e+01    -  1.00e+00 1.00e+00h  1\n",
      "   5  0.0000000e+00 7.59e+00 5.14e+08 -11.0 1.17e+01    -  1.00e+00 1.00e+00h  1\n",
      "   6  0.0000000e+00 9.82e+00 2.00e+09 -11.0 8.26e+00    -  1.00e+00 1.00e+00h  1\n",
      "   7  0.0000000e+00 6.57e+00 5.84e+10 -11.0 1.66e+02    -  1.00e+00 1.00e+00h  1\n",
      "   8  0.0000000e+00 5.30e+00 3.84e+09 -11.0 1.94e+01    -  1.00e+00 1.00e+00H  1\n",
      "   9  0.0000000e+00 1.68e+00 3.31e+09 -11.0 1.55e+01    -  1.00e+00 1.00e+00h  1\n",
      "iter    objective    inf_pr   inf_du lg(mu)  ||d||  lg(rg) alpha_du alpha_pr  ls\n",
      "  10  0.0000000e+00 2.64e-01 5.69e+08 -11.0 6.66e-01    -  1.00e+00 1.00e+00h  1\n",
      "  11  0.0000000e+00 2.58e-03 2.92e+07 -11.0 1.47e-01    -  1.00e+00 1.00e+00h  1\n",
      "  12  0.0000000e+00 3.82e-05 1.32e+06 -11.0 5.75e-04    -  1.00e+00 1.00e+00h  1\n",
      "  13  0.0000000e+00 1.87e-06 1.24e+04 -11.0 2.02e-05    -  1.00e+00 1.00e+00h  1\n",
      "  14  0.0000000e+00 3.59e-08 4.52e+02 -11.0 1.70e-06    -  1.00e+00 1.00e+00h  1\n",
      "  15  0.0000000e+00 1.31e-09 6.32e+01 -11.0 4.62e-08    -  1.00e+00 1.00e+00h  1\n",
      "Error=-3 returned from MUMPS in Solve.\n",
      "Cannot recompute multipliers for feasibility problem.  Error in eq_mult_calculator\n",
      "\n",
      "Number of Iterations....: 15\n",
      "\n",
      "                                   (scaled)                 (unscaled)\n",
      "Objective...............:   0.0000000000000000e+00    0.0000000000000000e+00\n",
      "Dual infeasibility......:   6.3177243811984226e+01    6.3177243811984226e+01\n",
      "Constraint violation....:   1.3057097016546044e-09    1.3057097016546044e-09\n",
      "Complementarity.........:   0.0000000000000000e+00    0.0000000000000000e+00\n",
      "Overall NLP error.......:   1.3057097016546044e-09    6.3177243811984226e+01\n",
      "\n",
      "\n",
      "Number of objective function evaluations             = 18\n",
      "Number of objective gradient evaluations             = 16\n",
      "Number of equality constraint evaluations            = 18\n",
      "Number of inequality constraint evaluations          = 0\n",
      "Number of equality constraint Jacobian evaluations   = 16\n",
      "Number of inequality constraint Jacobian evaluations = 0\n",
      "Number of Lagrangian Hessian evaluations             = 0\n",
      "Total CPU secs in IPOPT (w/o function evaluations)   =      0.094\n",
      "Total CPU secs in NLP function evaluations           =     10.267\n",
      "\n",
      "EXIT: Optimal Solution Found.\n"
     ]
    },
    {
     "data": {
      "text/plain": [
       "73-element Array{Float64,1}:\n",
       "   37.7401     \n",
       "  -37.7401     \n",
       "    4.80795e-11\n",
       "    9.42478    \n",
       "   -0.845627   \n",
       "  -12.5664     \n",
       "   15.708      \n",
       "   37.7401     \n",
       "   -2.92576e-11\n",
       "    6.81123e-10\n",
       "    1.82051    \n",
       "    2.48256e-10\n",
       "    7.75644e-10\n",
       "    ⋮          \n",
       "  -39.8345     \n",
       "   -2.89477e-11\n",
       "   -4.99114e-10\n",
       "    1.27526    \n",
       "  -15.708      \n",
       "   43.9823     \n",
       "   30.4097     \n",
       "    6.28319    \n",
       "    1.67432e-10\n",
       "   -0.604116   \n",
       "  153.938      \n",
       " -150.796      "
      ]
     },
     "execution_count": 5,
     "metadata": {},
     "output_type": "execute_result"
    }
   ],
   "source": [
    "q = find_fixed_point(mechanism)"
   ]
  },
  {
   "cell_type": "code",
   "execution_count": null,
   "metadata": {
    "collapsed": true
   },
   "outputs": [],
   "source": []
  }
 ],
 "metadata": {
  "kernelspec": {
   "display_name": "Julia 0.4.5",
   "language": "julia",
   "name": "julia-0.4"
  },
  "language_info": {
   "file_extension": ".jl",
   "mimetype": "application/julia",
   "name": "julia",
   "version": "0.4.5"
  }
 },
 "nbformat": 4,
 "nbformat_minor": 0
}
